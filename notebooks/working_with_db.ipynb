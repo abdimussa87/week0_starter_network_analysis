{
 "cells": [
  {
   "cell_type": "code",
   "execution_count": 31,
   "metadata": {},
   "outputs": [],
   "source": [
    "import os, sys\n",
    "import pprint\n",
    "# Add parent directory to path to import modules from src\n",
    "rpath = os.path.abspath('..')\n",
    "if rpath not in sys.path:\n",
    "    sys.path.insert(0, rpath)\n",
    "\n",
    "import src.db_utils as db_utils\n",
    "from src.loader import SlackDataLoader"
   ]
  },
  {
   "cell_type": "code",
   "execution_count": 32,
   "metadata": {},
   "outputs": [
    {
     "name": "stdout",
     "output_type": "stream",
     "text": [
      "collection channels already exists\n"
     ]
    }
   ],
   "source": [
    "\n",
    "db = db_utils.DBWithSchema()\n",
    "data_loader = SlackDataLoader(\"../anonymized\")"
   ]
  },
  {
   "cell_type": "code",
   "execution_count": 18,
   "metadata": {},
   "outputs": [],
   "source": [
    "#  insert the channels to db\n",
    "channels_inserted = db.insert_many_to_collection('channels',data_loader.get_channels())"
   ]
  },
  {
   "cell_type": "code",
   "execution_count": 34,
   "metadata": {},
   "outputs": [],
   "source": [
    "# insert the users to db\n",
    "users_inserted = db.insert_many_to_collection('users',data_loader.get_users())"
   ]
  },
  {
   "cell_type": "code",
   "execution_count": null,
   "metadata": {},
   "outputs": [],
   "source": [
    "# insert the channel messages to db\n",
    "users_inserted = db.insert_many_to_collection('channel_messages',data_loader.get_channel_messages())"
   ]
  },
  {
   "cell_type": "code",
   "execution_count": 17,
   "metadata": {},
   "outputs": [
    {
     "name": "stdout",
     "output_type": "stream",
     "text": [
      "{'_id': ObjectId('6567227a42fdd4b4d03450e4'),\n",
      " 'created': 1660301317,\n",
      " 'creator': 'U03TEPYRM2P',\n",
      " 'id': 'C03T0APHX63',\n",
      " 'is_archived': False,\n",
      " 'is_general': False,\n",
      " 'members': ['U03T89ACUUW',\n",
      "             'U03TEPYRM2P',\n",
      "             'U03TNP8Q8CT',\n",
      "             'U03TT5KEYCF',\n",
      "             'U03TX2VN6H5',\n",
      "             'U03U1FNPEUX',\n",
      "             'U03U1GHT39V',\n",
      "             'U03U1HAG9TR',\n",
      "             'U03U1J51VFZ',\n",
      "             'U03U4GULU3Y',\n",
      "             'U03U93GNNVB',\n",
      "             'U03U9DB7REG',\n",
      "             'U03U9EJR362',\n",
      "             'U03UAKATQ22',\n",
      "             'U03UD4FEDHB',\n",
      "             'U03UD5B7C3X',\n",
      "             'U03UD63A8PP',\n",
      "             'U03UD68RQH3',\n",
      "             'U03UDBUL7CL',\n",
      "             'U03UDKKESB1',\n",
      "             'U03UFV7HFNF',\n",
      "             'U03UG0SFHGT',\n",
      "             'U03UG0YHAUT',\n",
      "             'U03UG1Z21JP',\n",
      "             'U03UG32J3PC',\n",
      "             'U03UG4Q7V42',\n",
      "             'U03UG5VFN03',\n",
      "             'U03UH397319',\n",
      "             'U03UHB8CXDY',\n",
      "             'U03UJGFG2HJ',\n",
      "             'U03UJGP0C68',\n",
      "             'U03UJGRN5E0',\n",
      "             'U03UJH1EQQL',\n",
      "             'U03UJKJGRAQ',\n",
      "             'U03UJN29Y4C',\n",
      "             'U03UKL27B0R',\n",
      "             'U03UL5LSTG9',\n",
      "             'U03UP7V9Q57',\n",
      "             'U03UUMR26Q1',\n",
      "             'U03UUN8M4RX',\n",
      "             'U03UUP56MDF',\n",
      "             'U03UUR571A5',\n",
      "             'U03UUS0MZCZ',\n",
      "             'U03UVHCV6KB',\n",
      "             'U03UYNR4TS4',\n",
      "             'U03V1AM5TFA',\n",
      "             'U03V5Q9N516',\n",
      "             'U03V61VGQG0',\n",
      "             'U03V6HMRPGQ',\n",
      "             'U03V785NLSU',\n",
      "             'U03V8LHPDME'],\n",
      " 'name': 'all-community-building',\n",
      " 'purpose': {'creator': '', 'last_set': 0, 'value': ''},\n",
      " 'topic': {'creator': '', 'last_set': 0, 'value': ''}}\n"
     ]
    }
   ],
   "source": [
    "\n",
    "pprint.pprint(channels_collection.find_one({\"_id\": channel_id}))"
   ]
  },
  {
   "cell_type": "code",
   "execution_count": 19,
   "metadata": {},
   "outputs": [
    {
     "name": "stdout",
     "output_type": "stream",
     "text": [
      "6567227a42fdd4b4d03450e4\n"
     ]
    }
   ],
   "source": []
  },
  {
   "cell_type": "markdown",
   "metadata": {},
   "source": [
    "Bulk inserts"
   ]
  },
  {
   "cell_type": "code",
   "execution_count": 21,
   "metadata": {},
   "outputs": [
    {
     "name": "stdout",
     "output_type": "stream",
     "text": [
      "[ObjectId('6567248a42fdd4b4d03450e5'), ObjectId('6567248a42fdd4b4d03450e6')]\n"
     ]
    }
   ],
   "source": []
  },
  {
   "cell_type": "markdown",
   "metadata": {},
   "source": [
    "Querying returning many documents"
   ]
  },
  {
   "cell_type": "code",
   "execution_count": null,
   "metadata": {},
   "outputs": [],
   "source": []
  }
 ],
 "metadata": {
  "kernelspec": {
   "display_name": "week_0",
   "language": "python",
   "name": "python3"
  },
  "language_info": {
   "codemirror_mode": {
    "name": "ipython",
    "version": 3
   },
   "file_extension": ".py",
   "mimetype": "text/x-python",
   "name": "python",
   "nbconvert_exporter": "python",
   "pygments_lexer": "ipython3",
   "version": "3.10.13"
  }
 },
 "nbformat": 4,
 "nbformat_minor": 2
}
